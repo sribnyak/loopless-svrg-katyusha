{
 "cells": [
  {
   "cell_type": "markdown",
   "metadata": {},
   "source": [
    "# SVRG и Катюша становятся лучше без внешнего цикла"
   ]
  },
  {
   "cell_type": "markdown",
   "metadata": {},
   "source": [
    "## Постановка задачи\n",
    "\n",
    "Рассмотрим задачу минимизации эмпирического риска:\n",
    "\n",
    "$$ f(x) = \\frac{1}{n} \\sum_{i=1}^n f_i(x) \\rightarrow \\min_{x \\in \\mathbb{R}^d} \\quad (1) $$\n",
    "\n",
    "Такую задачу приходится решать в машинном обучении с учителем, и в таком контексте $n$ &mdash; это размер обучающей выборки, $x$ &mdash; вектор из $d$ параметров модели, а $f_i(x)$ &mdash; значение функции потерь на $i$-м объекте выборки при параметрах $x$."
   ]
  },
  {
   "cell_type": "markdown",
   "metadata": {},
   "source": [
    "## Loopless SVRG\n",
    "\n",
    "### Описание алгоритма\n",
    "\n",
    "Вход: размер шага $\\eta > 0$, вероятность $p \\in (0, 1]$, стартовая точка: $x^0 \\in \\mathbb{R}^d.$\n",
    "\n",
    "Контрольная точка $w^0 = x^0.$\n",
    "\n",
    "Далее в цикле по $k = 0, 1, 2, \\dots$ выполняется:\n",
    "\n",
    "1. $g_k = \\nabla f_i(x^k) - \\nabla f_i(w^k) + \\nabla f(w^k),\\ \\ $ где $i$ выбирается случайно, равновероятно из $\\{1, \\dots, n\\}$\n",
    "\n",
    "2. $x_{k+1} = x^k - \\eta g^k$\n",
    "\n",
    "3. $w_{k+1} = x^k \\text{ с вероятностью } p, \\text{ иначе } w^k$"
   ]
  }
 ],
 "metadata": {
  "kernelspec": {
   "display_name": "Python 3 (ipykernel)",
   "language": "python",
   "name": "python3"
  },
  "language_info": {
   "codemirror_mode": {
    "name": "ipython",
    "version": 3
   },
   "file_extension": ".py",
   "mimetype": "text/x-python",
   "name": "python",
   "nbconvert_exporter": "python",
   "pygments_lexer": "ipython3",
   "version": "3.11.4"
  }
 },
 "nbformat": 4,
 "nbformat_minor": 2
}
