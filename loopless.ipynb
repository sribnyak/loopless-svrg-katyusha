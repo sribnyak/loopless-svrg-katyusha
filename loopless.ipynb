{
 "cells": [
  {
   "cell_type": "markdown",
   "metadata": {},
   "source": [
    "# SVRG и Катюша становятся лучше без внешнего цикла"
   ]
  },
  {
   "cell_type": "markdown",
   "metadata": {},
   "source": [
    "## Постановка задачи\n",
    "\n",
    "Рассмотрим задачу минимизации эмпирического риска:\n",
    "\n",
    "$$ f(x) = \\frac{1}{n} \\sum_{i=1}^n f_i(x) \\rightarrow \\min_{x \\in \\mathbb{R}^d} \\quad (1) $$\n",
    "\n",
    "Такую задачу приходится решать в машинном обучении с учителем, и в таком контексте $n$ &mdash; это размер обучающей выборки, $x$ &mdash; вектор из $d$ параметров модели, а $f_i(x)$ &mdash; значение функции потерь на $i$-м объекте выборки при параметрах $x$."
   ]
  },
  {
   "cell_type": "markdown",
   "metadata": {},
   "source": [
    "## Loopless SVRG\n",
    "\n",
    "### Описание алгоритма\n",
    "\n",
    "**Вход:** размер шага $\\eta > 0$, вероятность $p \\in (0, 1]$, стартовая точка $x^0 \\in \\mathbb{R}^d$, количество итераций $K$.\n",
    "\n",
    "$w^0 = x^0$ \\\n",
    "**for** $k = 0, 1, 2, \\dots, K-1$ **do**: \\\n",
    "&nbsp; &nbsp; Выбрать $i$ случайно, равновероятно из $\\{1, \\dots, n\\}$ \\\n",
    "&nbsp; &nbsp; $g^k = \\nabla f_i(x^k) - \\nabla f_i(w^k) + \\nabla f(w^k)$ \\\n",
    "&nbsp; &nbsp; $x^{k+1} = x^k - \\eta g^k$ \\\n",
    "&nbsp; &nbsp; $w^{k+1} = \\cases{x^k \\ \\ \\text{с вероятностью } p\\\\w^k \\ \\text{с вероятностью } 1-p}$ \\\n",
    "**end for**\n",
    "\n",
    "**Выход:** $x_K$.\n",
    "\n",
    "Классический SVRG отличается только тем, что $w^k$ обновляется не случайно, а во внешнем цикле: \\\n",
    "(Для упрощения восприятия не будем писать индексы, понимая знак равенства как оператор присваивания.)\n",
    "\n",
    "**Вход:** размер шага $\\eta > 0$, количество итераций внутреннего цикла $m$, стартовая точка $x \\in \\mathbb{R}^d$, количество итераций $K$.\n",
    "\n",
    "**for** $k = 0, 1, 2, \\dots, K-1$ **do**: \\\n",
    "&nbsp; &nbsp; $w = x$ \\\n",
    "&nbsp; &nbsp; **for** $t = 0, 1, 2, \\dots, m - 1$ **do**: \\\n",
    "&nbsp; &nbsp; &nbsp; &nbsp; Выбрать $i$ случайно, равновероятно из $\\{1, \\dots, n\\}$ \\\n",
    "&nbsp; &nbsp; &nbsp; &nbsp; $g = \\nabla f_i(x) - \\nabla f_i(w) + \\nabla f(w)$ \\\n",
    "&nbsp; &nbsp; &nbsp; &nbsp; $x = x - \\eta g$ \\\n",
    "&nbsp; &nbsp; **end for** \\\n",
    "**end for**\n",
    "\n",
    "**Выход:** $x_K$."
   ]
  },
  {
   "cell_type": "markdown",
   "metadata": {},
   "source": [
    "## Loopless Katyusha (L-Katyusha)\n",
    "\n",
    "### Описание алгоритма\n",
    "\n",
    "**Вход:** $\\theta_1$, $\\theta_2$, вероятность $p \\in (0, 1]$, стартовая точка $y^0 \\in \\mathbb{R}^d$, количество итераций $K$.\n",
    "\n",
    "$\\displaystyle \\eta = \\frac{\\theta_2}{(1 + \\theta_2)\\theta_1}$ (размер шага) TODO: проверить\\\n",
    "$\\displaystyle \\sigma = \\frac{\\mu}{L}$ ($\\mu, L$ &mdash; константа сильной выпуклости и константа Липшица градиента соответственно) \\\n",
    "$w^0 = z^0 = y^0$ \\\n",
    "**for** $k = 0, 1, 2, \\dots, K-1$ **do**: \\\n",
    "&nbsp; &nbsp; $x^k = \\theta_1 z^k + \\theta_2 w^k + (1 - \\theta_1 - \\theta_2) y^k$ \\\n",
    "&nbsp; &nbsp; Выбрать $i$ случайно, равновероятно из $\\{1, \\dots, n\\}$ \\\n",
    "&nbsp; &nbsp; $g^k = \\nabla f_i(x^k) - \\nabla f_i(w^k) + \\nabla f(w^k)$ \\\n",
    "&nbsp; &nbsp; $z^{k+1} = \\frac{1}{1 + \\eta \\sigma}\\left( \\eta \\sigma x^k + z^k - \\frac{\\eta}{L} g^k \\right)$ \\\n",
    "&nbsp; &nbsp; $y^{k+1} = x^k + \\theta_1 (z^{k+1} - z^k)$ \\\n",
    "&nbsp; &nbsp; $w^{k+1} = \\cases{y^k \\ \\ \\text{с вероятностью } p\\\\w^k \\ \\text{с вероятностью } 1-p}$ \\\n",
    "**end for**\n",
    "\n",
    "**Выход:** $y_K$. TODO: проверить\n",
    "\n",
    "Классическая Катюша, аналогично, отличается только тем, что $w^k$ обновляется не случайно, а во внешнем цикле."
   ]
  },
  {
   "cell_type": "code",
   "execution_count": 1,
   "metadata": {},
   "outputs": [],
   "source": [
    "import numpy as np\n",
    "import matplotlib.pyplot as plt\n",
    "from tqdm.notebook import tqdm\n",
    "# import jax\n",
    "# import jax.numpy as jnp\n",
    "# import scipy.stats as sps"
   ]
  },
  {
   "cell_type": "code",
   "execution_count": 3,
   "metadata": {},
   "outputs": [],
   "source": [
    "def SVRG(n, grad, outer_num_iter, x_0, stepsize, m, rng):\n",
    "    x = x_0.copy()\n",
    "    xs = [x.copy()]\n",
    "\n",
    "    for k in tqdm(range(outer_num_iter)):\n",
    "        # нам не нужно хранить w, только градиент в ней\n",
    "        grads_w = np.array([grad(i, x) for i in range(n)])\n",
    "        grad_w = grads_w.mean()\n",
    "\n",
    "        for t in range(m):\n",
    "            i = rng.integers(n)\n",
    "            g = grad(i, x) - grads_w[i] + grad_w\n",
    "            x -= stepsize * g\n",
    "            xs.append(x.copy())\n",
    "\n",
    "    return np.array(xs)"
   ]
  },
  {
   "cell_type": "code",
   "execution_count": 5,
   "metadata": {},
   "outputs": [],
   "source": [
    "def L_SVRG(n, grad, num_iter, x_0, stepsize, p, rng):\n",
    "    x = x_0.copy()\n",
    "    xs = [x.copy()]\n",
    "\n",
    "    grads_w = np.array([grad(i, x) for i in range(n)])\n",
    "    grad_w = grads_w.mean()\n",
    "\n",
    "    for k in tqdm(range(num_iter)):\n",
    "        i = rng.integers(n)\n",
    "        g = grad(i, x) - grads_w[i] + grad_w\n",
    "\n",
    "        if rng.binomial(n=1, p=p):\n",
    "            grads_w = np.array([grad(i, x) for i in range(n)])\n",
    "            grad_w = grads_w.mean()\n",
    "\n",
    "        x -= stepsize * g\n",
    "        xs.append(x.copy())\n",
    "\n",
    "    return np.array(xs)"
   ]
  },
  {
   "cell_type": "code",
   "execution_count": 4,
   "metadata": {},
   "outputs": [],
   "source": [
    "def Katyusha(n, grad, outer_num_iter, y_0, t1, t2, m, mu, L, rng):\n",
    "    eta = t2 / (1 + t2) / t1\n",
    "    sigma = mu / L\n",
    "\n",
    "    y = y_0.copy()\n",
    "    ys = [y.copy()]\n",
    "    z = y.copy()\n",
    "    \n",
    "    for k in tqdm(range(outer_num_iter)):\n",
    "        w = y.copy()\n",
    "        grads_w = np.array([grad(i, w) for i in range(n)])\n",
    "        grad_w = grads_w.mean()\n",
    "        \n",
    "        for t in range(m):\n",
    "            x = t1 * z + t2 * w + (1 - t1 - t2) * y\n",
    "\n",
    "            i = rng.integers(n)\n",
    "            g = grad(i, x) - grads_w[i] + grad_w\n",
    "\n",
    "            new_z = (eta * sigma * x + z - eta / L * g) / (1 + eta * sigma)\n",
    "            y = x + t1 * (new_z - z)\n",
    "            ys.append(y.copy())\n",
    "            z = new_z.copy()\n",
    "\n",
    "    return np.array(ys)"
   ]
  },
  {
   "cell_type": "code",
   "execution_count": 6,
   "metadata": {},
   "outputs": [],
   "source": [
    "def L_Katyusha(n, grad, num_iter, y_0, t1, t2, p, mu, L, rng):\n",
    "    eta = t2 / (1 + t2) / t1\n",
    "    sigma = mu / L\n",
    "\n",
    "    y = y_0.copy()\n",
    "    ys = [y.copy()]\n",
    "    z = y.copy()\n",
    "\n",
    "    w = y.copy()\n",
    "    grads_w = np.array([grad(i, w) for i in range(n)])\n",
    "    grad_w = grads_w.mean()\n",
    "\n",
    "    for k in tqdm(range(num_iter)):\n",
    "        x = t1 * z + t2 * w + (1 - t1 - t2) * y\n",
    "\n",
    "        i = rng.integers(n)\n",
    "        g = grad(i, x) - grads_w[i] + grad_w\n",
    "\n",
    "        if rng.binomial(n=1, p=p):\n",
    "            w = y.copy()\n",
    "            grads_w = np.array([grad(i, w) for i in range(n)])\n",
    "            grad_w = grads_w.mean()\n",
    "\n",
    "        new_z = (eta * sigma * x + z - eta / L * g) / (1 + eta * sigma)\n",
    "        y = x + t1 * (new_z - z)\n",
    "        ys.append(y.copy())\n",
    "        z = new_z.copy()\n",
    "\n",
    "    return np.array(ys)"
   ]
  },
  {
   "cell_type": "markdown",
   "metadata": {},
   "source": [
    "Игрушечный пример: $n = d$, $f_i(x) = \\frac{i}{2} x_i^2,\\ i=1,\\dots,n$. \\\n",
    "$\\nabla f_i(x) = i x_i e_i$\n",
    "\n",
    "Константы сильной выпуклости и липшицевости градиента для $i$-ой функции: $\\mu_i=i,\\ L_i=i$. \\\n",
    "Значит, все функции являются $\\mu$-сильно выпуклыми и $L$-гладкими для  $\\mu=1,\\ L=n$.\n",
    "\n",
    "Тогда нужно брать TODO"
   ]
  },
  {
   "cell_type": "code",
   "execution_count": 7,
   "metadata": {},
   "outputs": [],
   "source": [
    "def f_toy(i, x):\n",
    "    return x[i]**2 * i / 2\n",
    "\n",
    "\n",
    "def grad_toy(i, x):\n",
    "    res = np.zeros_like(x)\n",
    "    res[i] = i * x[i]\n",
    "    return res"
   ]
  },
  {
   "cell_type": "code",
   "execution_count": 14,
   "metadata": {},
   "outputs": [
    {
     "data": {
      "application/vnd.jupyter.widget-view+json": {
       "model_id": "c67459866ed247cfa57329e6dc910f33",
       "version_major": 2,
       "version_minor": 0
      },
      "text/plain": [
       "  0%|          | 0/20 [00:00<?, ?it/s]"
      ]
     },
     "metadata": {},
     "output_type": "display_data"
    },
    {
     "data": {
      "application/vnd.jupyter.widget-view+json": {
       "model_id": "53fb8aff6fee4d1d87808605fd0ddfc4",
       "version_major": 2,
       "version_minor": 0
      },
      "text/plain": [
       "  0%|          | 0/400 [00:00<?, ?it/s]"
      ]
     },
     "metadata": {},
     "output_type": "display_data"
    },
    {
     "data": {
      "application/vnd.jupyter.widget-view+json": {
       "model_id": "181f884538654e8ca9983b340d66b558",
       "version_major": 2,
       "version_minor": 0
      },
      "text/plain": [
       "  0%|          | 0/20 [00:00<?, ?it/s]"
      ]
     },
     "metadata": {},
     "output_type": "display_data"
    },
    {
     "data": {
      "application/vnd.jupyter.widget-view+json": {
       "model_id": "3eaf0acfc4c54fa7a99ed595231b6414",
       "version_major": 2,
       "version_minor": 0
      },
      "text/plain": [
       "  0%|          | 0/400 [00:00<?, ?it/s]"
      ]
     },
     "metadata": {},
     "output_type": "display_data"
    }
   ],
   "source": [
    "d = 20\n",
    "n = d\n",
    "\n",
    "rng = np.random.default_rng(3194312162)\n",
    "\n",
    "init = 5 * np.ones(d)\n",
    "xs_s = SVRG(n=d, grad=grad_toy, outer_num_iter=20, x_0=init, stepsize=0.1, m=n, rng=rng)\n",
    "xs_ls = L_SVRG(n=n, grad=grad_toy, num_iter=400, x_0=init, stepsize=0.1, p=1/n, rng=rng)\n",
    "xs_k = Katyusha(n=n, grad=grad_toy, outer_num_iter=20, y_0=init, t1=0.5, t2=0.5, m=n, mu=1, L=n, rng=rng)\n",
    "xs_lk = L_Katyusha(n=n, grad=grad_toy, num_iter=400, y_0=init, t1=0.5, t2=0.5, p=1/n, mu=1, L=n, rng=rng)"
   ]
  },
  {
   "cell_type": "code",
   "execution_count": 15,
   "metadata": {},
   "outputs": [
    {
     "data": {
      "image/png": "[encoded data removed]",
      "text/plain": [
       "<Figure size 640x480 with 1 Axes>"
      ]
     },
     "metadata": {},
     "output_type": "display_data"
    }
   ],
   "source": [
    "plt.plot(np.linalg.norm(xs_s, axis=1), label='SVRG')\n",
    "plt.plot(np.linalg.norm(xs_ls, axis=1), label='L-SVRG')\n",
    "plt.plot(np.linalg.norm(xs_k, axis=1), label='Katyusha')\n",
    "plt.plot(np.linalg.norm(xs_lk, axis=1), label='L-Katyusha')\n",
    "plt.yscale('log')\n",
    "plt.title('График сходимости')\n",
    "plt.xlabel('Номер итерации')\n",
    "plt.ylabel('Расстояние от экстремума')\n",
    "plt.legend()\n",
    "plt.show()"
   ]
  },
  {
   "cell_type": "code",
   "execution_count": null,
   "metadata": {},
   "outputs": [],
   "source": []
  }
 ],
 "metadata": {
  "kernelspec": {
   "display_name": "Python 3 (ipykernel)",
   "language": "python",
   "name": "python3"
  },
  "language_info": {
   "codemirror_mode": {
    "name": "ipython",
    "version": 3
   },
   "file_extension": ".py",
   "mimetype": "text/x-python",
   "name": "python",
   "nbconvert_exporter": "python",
   "pygments_lexer": "ipython3",
   "version": "3.11.4"
  }
 },
 "nbformat": 4,
 "nbformat_minor": 2
}
